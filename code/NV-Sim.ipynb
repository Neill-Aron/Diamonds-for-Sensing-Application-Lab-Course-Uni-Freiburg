{
 "cells": [
  {
   "cell_type": "code",
   "execution_count": 1,
   "metadata": {},
   "outputs": [
    {
     "data": {
      "application/vnd.jupyter.widget-view+json": {
       "model_id": "b38a89d270f84206b78a23f38b7aea2a",
       "version_major": 2,
       "version_minor": 0
      },
      "text/plain": [
       "interactive(children=(FloatSlider(value=0.0, description='B-Feld Winkel (°)', max=360.0, step=1.0), Output()),…"
      ]
     },
     "metadata": {},
     "output_type": "display_data"
    }
   ],
   "source": [
    "import numpy as np\n",
    "import matplotlib.pyplot as plt\n",
    "import ipywidgets as widgets\n",
    "from ipywidgets import interact\n",
    "\n",
    "# Konstanten\n",
    "D = 2.87  # GHz, Nullfeld-Splitting\n",
    "mu_B = 13.996  # MHz/mT, Bohrsches Magneton\n",
    "g_s = 2.0028  # Landé-Faktor\n",
    "B = 10  # Magnetfeldstärke in mT\n",
    "\n",
    "# NV-Zentren-Richtungen ([111] Familienrichtungen)\n",
    "NV_orientations = np.array([\n",
    "    [1, 1, 1],\n",
    "    [-1, -1, 1],\n",
    "    [1, -1, -1],\n",
    "    [-1, 1, -1]\n",
    "]) / np.sqrt(3)  # Normierung auf Einheitsvektoren\n",
    "\n",
    "\n",
    "def odmr_spectrum(theta_deg):\n",
    "    \"\"\"Berechnet und plottet das ODMR-Spektrum für eine gegebene Magnetfeldrotation.\"\"\"\n",
    "    theta_rad = np.radians(theta_deg)\n",
    "    B_rotated = np.array([np.sin(theta_rad), 0, np.cos(theta_rad)])  # Rotation in der (111)-Ebene\n",
    "    \n",
    "    # Berechnung der Resonanzfrequenzen für jedes NV-Zentrum\n",
    "    frequencies = []\n",
    "    for nv in NV_orientations:\n",
    "        cos_theta = np.dot(nv, B_rotated)  # Skalarprodukt bestimmt Winkel\n",
    "        f_plus = D + g_s * mu_B * B * cos_theta  # Zeeman-Aufspaltung\n",
    "        f_minus = D - g_s * mu_B * B * cos_theta\n",
    "        frequencies.extend([f_plus, f_minus])\n",
    "    \n",
    "    # ODMR-Spektrum simulieren\n",
    "    f_range = np.linspace(2.7, 3.0, 500)  # GHz, Frequenzbereich für das Spektrum\n",
    "    spectrum = np.ones_like(f_range)\n",
    "    \n",
    "    # Erzeuge die Resonanzdips als Gauß-Funktionen\n",
    "    linewidth = 0.005  # GHz, Linienbreite der Resonanzen\n",
    "    for f_res in frequencies:\n",
    "        spectrum -= np.exp(-((f_range - f_res) ** 2) / (2 * linewidth ** 2))\n",
    "    \n",
    "    # Plot\n",
    "    plt.figure(figsize=(8, 5))\n",
    "    plt.plot(f_range, spectrum, label=f\"B-Feld Rotation: {theta_deg}°\", color='red')\n",
    "    plt.xlabel(\"Mikrowellenfrequenz (GHz)\")\n",
    "    plt.ylabel(\"Fluoreszenz (normiert)\")\n",
    "    plt.title(\"Simuliertes ODMR-Spektrum für NV-Zentren mit rotierendem Magnetfeld\")\n",
    "    plt.legend()\n",
    "    plt.grid()\n",
    "    plt.show()\n",
    "\n",
    "# Interaktiver Plot mit Regler\n",
    "interact(odmr_spectrum, theta_deg=widgets.FloatSlider(min=0, max=360, step=1, value=0, description=\"B-Feld Winkel (°)\"));"
   ]
  }
 ],
 "metadata": {
  "kernelspec": {
   "display_name": "venv",
   "language": "python",
   "name": "python3"
  },
  "language_info": {
   "codemirror_mode": {
    "name": "ipython",
    "version": 3
   },
   "file_extension": ".py",
   "mimetype": "text/x-python",
   "name": "python",
   "nbconvert_exporter": "python",
   "pygments_lexer": "ipython3",
   "version": "3.10.4"
  }
 },
 "nbformat": 4,
 "nbformat_minor": 2
}
